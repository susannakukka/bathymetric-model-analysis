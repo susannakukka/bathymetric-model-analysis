{
 "cells": [
  {
   "cell_type": "markdown",
   "id": "a915aab9-a1e4-4c00-bf8b-f5fc59f0bc5b",
   "metadata": {},
   "source": [
    "## Plotting of cross-section graphs"
   ]
  },
  {
   "cell_type": "code",
   "execution_count": 1,
   "id": "c9e489f2-eda4-4d0c-8e27-466d2b5ee04b",
   "metadata": {},
   "outputs": [],
   "source": [
    "import pandas as pd\n",
    "import numpy as np\n",
    "import math\n",
    "import seaborn as sns\n",
    "from sklearn.metrics import mean_squared_error, mean_absolute_error, max_error, r2_score\n",
    "from sklearn.linear_model import LinearRegression\n",
    "import matplotlib.pyplot as plt\n",
    "import scipy.stats as stats\n",
    "\n",
    "import plotting"
   ]
  },
  {
   "cell_type": "code",
   "execution_count": 2,
   "id": "0c2ef18b-8da9-4474-875f-9a538b073a69",
   "metadata": {},
   "outputs": [],
   "source": [
    "use_liberation_fonts = True\n",
    "if use_liberation_fonts:\n",
    "    plt.rcParams.update({\n",
    "        'font.family':'sans-serif',\n",
    "        'font.sans-serif':['Liberation Sans'],\n",
    "    })"
   ]
  },
  {
   "cell_type": "code",
   "execution_count": 3,
   "id": "33b98903-053c-4302-bea5-31a61fd2deef",
   "metadata": {},
   "outputs": [],
   "source": [
    "# import CROSS-SECTION (cs) ASV\n",
    "cs_asv = pd.read_csv('../data/output/valle_cs_2_asv.csv', delimiter=',')"
   ]
  },
  {
   "cell_type": "code",
   "execution_count": 4,
   "id": "1e034c48-be93-4302-bf26-9f4e96d7bcc8",
   "metadata": {},
   "outputs": [],
   "source": [
    "# import CROSS-SECTION (cs) ALS\n",
    "cs_als = pd.read_csv('../data/output/valle_cs_2_als.csv', delimiter=',')"
   ]
  },
  {
   "cell_type": "code",
   "execution_count": 5,
   "id": "2333891b-8d41-44b9-97d2-b06b5ad91230",
   "metadata": {},
   "outputs": [],
   "source": [
    "# import CROSS-SECTION (cs) S2\n",
    "cs_s2 = pd.read_csv('../data/output/valle_cs_2_s2.csv', delimiter=',')"
   ]
  },
  {
   "cell_type": "code",
   "execution_count": 6,
   "id": "ffcdb8ba-776f-4807-8265-e2f81eccbb08",
   "metadata": {},
   "outputs": [
    {
     "data": {
      "text/html": [
       "<div>\n",
       "<style scoped>\n",
       "    .dataframe tbody tr th:only-of-type {\n",
       "        vertical-align: middle;\n",
       "    }\n",
       "\n",
       "    .dataframe tbody tr th {\n",
       "        vertical-align: top;\n",
       "    }\n",
       "\n",
       "    .dataframe thead th {\n",
       "        text-align: right;\n",
       "    }\n",
       "</style>\n",
       "<table border=\"1\" class=\"dataframe\">\n",
       "  <thead>\n",
       "    <tr style=\"text-align: right;\">\n",
       "      <th></th>\n",
       "      <th>ASV_m</th>\n",
       "      <th>ASV</th>\n",
       "    </tr>\n",
       "  </thead>\n",
       "  <tbody>\n",
       "    <tr>\n",
       "      <th>0</th>\n",
       "      <td>0.000000</td>\n",
       "      <td>64.404235</td>\n",
       "    </tr>\n",
       "    <tr>\n",
       "      <th>1</th>\n",
       "      <td>0.312260</td>\n",
       "      <td>64.400614</td>\n",
       "    </tr>\n",
       "    <tr>\n",
       "      <th>2</th>\n",
       "      <td>0.624521</td>\n",
       "      <td>64.409531</td>\n",
       "    </tr>\n",
       "    <tr>\n",
       "      <th>3</th>\n",
       "      <td>0.936781</td>\n",
       "      <td>64.414829</td>\n",
       "    </tr>\n",
       "    <tr>\n",
       "      <th>4</th>\n",
       "      <td>1.249041</td>\n",
       "      <td>64.429275</td>\n",
       "    </tr>\n",
       "    <tr>\n",
       "      <th>...</th>\n",
       "      <td>...</td>\n",
       "      <td>...</td>\n",
       "    </tr>\n",
       "    <tr>\n",
       "      <th>502</th>\n",
       "      <td>156.754673</td>\n",
       "      <td>63.538188</td>\n",
       "    </tr>\n",
       "    <tr>\n",
       "      <th>503</th>\n",
       "      <td>157.066933</td>\n",
       "      <td>63.532335</td>\n",
       "    </tr>\n",
       "    <tr>\n",
       "      <th>504</th>\n",
       "      <td>157.379194</td>\n",
       "      <td>63.516226</td>\n",
       "    </tr>\n",
       "    <tr>\n",
       "      <th>505</th>\n",
       "      <td>157.691454</td>\n",
       "      <td>63.491816</td>\n",
       "    </tr>\n",
       "    <tr>\n",
       "      <th>506</th>\n",
       "      <td>157.691454</td>\n",
       "      <td>63.491816</td>\n",
       "    </tr>\n",
       "  </tbody>\n",
       "</table>\n",
       "<p>507 rows × 2 columns</p>\n",
       "</div>"
      ],
      "text/plain": [
       "          ASV_m        ASV\n",
       "0      0.000000  64.404235\n",
       "1      0.312260  64.400614\n",
       "2      0.624521  64.409531\n",
       "3      0.936781  64.414829\n",
       "4      1.249041  64.429275\n",
       "..          ...        ...\n",
       "502  156.754673  63.538188\n",
       "503  157.066933  63.532335\n",
       "504  157.379194  63.516226\n",
       "505  157.691454  63.491816\n",
       "506  157.691454  63.491816\n",
       "\n",
       "[507 rows x 2 columns]"
      ]
     },
     "execution_count": 6,
     "metadata": {},
     "output_type": "execute_result"
    }
   ],
   "source": [
    "# check\n",
    "cs_asv"
   ]
  },
  {
   "cell_type": "code",
   "execution_count": 7,
   "id": "cae42201-448c-4177-a82c-2408ee174a55",
   "metadata": {},
   "outputs": [
    {
     "data": {
      "text/html": [
       "<div>\n",
       "<style scoped>\n",
       "    .dataframe tbody tr th:only-of-type {\n",
       "        vertical-align: middle;\n",
       "    }\n",
       "\n",
       "    .dataframe tbody tr th {\n",
       "        vertical-align: top;\n",
       "    }\n",
       "\n",
       "    .dataframe thead th {\n",
       "        text-align: right;\n",
       "    }\n",
       "</style>\n",
       "<table border=\"1\" class=\"dataframe\">\n",
       "  <thead>\n",
       "    <tr style=\"text-align: right;\">\n",
       "      <th></th>\n",
       "      <th>ALS_m</th>\n",
       "      <th>ALS</th>\n",
       "    </tr>\n",
       "  </thead>\n",
       "  <tbody>\n",
       "    <tr>\n",
       "      <th>0</th>\n",
       "      <td>0.000000</td>\n",
       "      <td>64.320200</td>\n",
       "    </tr>\n",
       "    <tr>\n",
       "      <th>1</th>\n",
       "      <td>0.312260</td>\n",
       "      <td>64.344149</td>\n",
       "    </tr>\n",
       "    <tr>\n",
       "      <th>2</th>\n",
       "      <td>0.624521</td>\n",
       "      <td>64.381248</td>\n",
       "    </tr>\n",
       "    <tr>\n",
       "      <th>3</th>\n",
       "      <td>0.936781</td>\n",
       "      <td>64.356295</td>\n",
       "    </tr>\n",
       "    <tr>\n",
       "      <th>4</th>\n",
       "      <td>1.249041</td>\n",
       "      <td>64.340065</td>\n",
       "    </tr>\n",
       "    <tr>\n",
       "      <th>...</th>\n",
       "      <td>...</td>\n",
       "      <td>...</td>\n",
       "    </tr>\n",
       "    <tr>\n",
       "      <th>502</th>\n",
       "      <td>156.754673</td>\n",
       "      <td>63.597241</td>\n",
       "    </tr>\n",
       "    <tr>\n",
       "      <th>503</th>\n",
       "      <td>157.066933</td>\n",
       "      <td>63.755894</td>\n",
       "    </tr>\n",
       "    <tr>\n",
       "      <th>504</th>\n",
       "      <td>157.379194</td>\n",
       "      <td>63.410601</td>\n",
       "    </tr>\n",
       "    <tr>\n",
       "      <th>505</th>\n",
       "      <td>157.691454</td>\n",
       "      <td>63.309952</td>\n",
       "    </tr>\n",
       "    <tr>\n",
       "      <th>506</th>\n",
       "      <td>157.691454</td>\n",
       "      <td>63.309952</td>\n",
       "    </tr>\n",
       "  </tbody>\n",
       "</table>\n",
       "<p>507 rows × 2 columns</p>\n",
       "</div>"
      ],
      "text/plain": [
       "          ALS_m        ALS\n",
       "0      0.000000  64.320200\n",
       "1      0.312260  64.344149\n",
       "2      0.624521  64.381248\n",
       "3      0.936781  64.356295\n",
       "4      1.249041  64.340065\n",
       "..          ...        ...\n",
       "502  156.754673  63.597241\n",
       "503  157.066933  63.755894\n",
       "504  157.379194  63.410601\n",
       "505  157.691454  63.309952\n",
       "506  157.691454  63.309952\n",
       "\n",
       "[507 rows x 2 columns]"
      ]
     },
     "execution_count": 7,
     "metadata": {},
     "output_type": "execute_result"
    }
   ],
   "source": [
    "# check\n",
    "cs_als"
   ]
  },
  {
   "cell_type": "code",
   "execution_count": 8,
   "id": "69f1804e-3b01-4cde-b4d0-5737230578c5",
   "metadata": {},
   "outputs": [
    {
     "data": {
      "text/html": [
       "<div>\n",
       "<style scoped>\n",
       "    .dataframe tbody tr th:only-of-type {\n",
       "        vertical-align: middle;\n",
       "    }\n",
       "\n",
       "    .dataframe tbody tr th {\n",
       "        vertical-align: top;\n",
       "    }\n",
       "\n",
       "    .dataframe thead th {\n",
       "        text-align: right;\n",
       "    }\n",
       "</style>\n",
       "<table border=\"1\" class=\"dataframe\">\n",
       "  <thead>\n",
       "    <tr style=\"text-align: right;\">\n",
       "      <th></th>\n",
       "      <th>S2_m</th>\n",
       "      <th>S2</th>\n",
       "    </tr>\n",
       "  </thead>\n",
       "  <tbody>\n",
       "    <tr>\n",
       "      <th>0</th>\n",
       "      <td>0.000000</td>\n",
       "      <td>63.153445</td>\n",
       "    </tr>\n",
       "    <tr>\n",
       "      <th>1</th>\n",
       "      <td>1.251519</td>\n",
       "      <td>63.153445</td>\n",
       "    </tr>\n",
       "    <tr>\n",
       "      <th>2</th>\n",
       "      <td>2.503039</td>\n",
       "      <td>63.422013</td>\n",
       "    </tr>\n",
       "    <tr>\n",
       "      <th>3</th>\n",
       "      <td>3.754558</td>\n",
       "      <td>63.422013</td>\n",
       "    </tr>\n",
       "    <tr>\n",
       "      <th>4</th>\n",
       "      <td>5.006078</td>\n",
       "      <td>62.963869</td>\n",
       "    </tr>\n",
       "    <tr>\n",
       "      <th>...</th>\n",
       "      <td>...</td>\n",
       "      <td>...</td>\n",
       "    </tr>\n",
       "    <tr>\n",
       "      <th>123</th>\n",
       "      <td>153.936895</td>\n",
       "      <td>62.797988</td>\n",
       "    </tr>\n",
       "    <tr>\n",
       "      <th>124</th>\n",
       "      <td>155.188415</td>\n",
       "      <td>62.331945</td>\n",
       "    </tr>\n",
       "    <tr>\n",
       "      <th>125</th>\n",
       "      <td>156.439934</td>\n",
       "      <td>62.331945</td>\n",
       "    </tr>\n",
       "    <tr>\n",
       "      <th>126</th>\n",
       "      <td>157.691454</td>\n",
       "      <td>62.331945</td>\n",
       "    </tr>\n",
       "    <tr>\n",
       "      <th>127</th>\n",
       "      <td>157.691454</td>\n",
       "      <td>62.331945</td>\n",
       "    </tr>\n",
       "  </tbody>\n",
       "</table>\n",
       "<p>128 rows × 2 columns</p>\n",
       "</div>"
      ],
      "text/plain": [
       "           S2_m         S2\n",
       "0      0.000000  63.153445\n",
       "1      1.251519  63.153445\n",
       "2      2.503039  63.422013\n",
       "3      3.754558  63.422013\n",
       "4      5.006078  62.963869\n",
       "..          ...        ...\n",
       "123  153.936895  62.797988\n",
       "124  155.188415  62.331945\n",
       "125  156.439934  62.331945\n",
       "126  157.691454  62.331945\n",
       "127  157.691454  62.331945\n",
       "\n",
       "[128 rows x 2 columns]"
      ]
     },
     "execution_count": 8,
     "metadata": {},
     "output_type": "execute_result"
    }
   ],
   "source": [
    "# check\n",
    "cs_s2"
   ]
  },
  {
   "cell_type": "code",
   "execution_count": 9,
   "id": "3af5de99-b4be-4659-b852-bae5afe2545f",
   "metadata": {},
   "outputs": [],
   "source": [
    "# rename S2 to SDB\n",
    "cs_s2 = cs_s2.rename(columns={\"S2\": \"SDB\"})"
   ]
  },
  {
   "cell_type": "code",
   "execution_count": 10,
   "id": "b481a14a-a2dc-4cfc-9997-e7a318135d13",
   "metadata": {},
   "outputs": [],
   "source": [
    "# replace \"None\" to nan\n",
    "cs_asv = cs_asv.replace('None', np.nan)\n",
    "cs_als = cs_als.replace('None', np.nan)\n",
    "cs_s2 = cs_s2.replace('None', np.nan)"
   ]
  },
  {
   "cell_type": "code",
   "execution_count": 13,
   "id": "1b11b599-5daf-4de8-b925-716b0d8f024b",
   "metadata": {},
   "outputs": [
    {
     "data": {
      "text/plain": [
       "<matplotlib.lines.Line2D at 0x406b52a030>"
      ]
     },
     "execution_count": 13,
     "metadata": {},
     "output_type": "execute_result"
    },
    {
     "data": {
      "image/png": "[encoded data removed]",
      "text/plain": [
       "<Figure size 600x400 with 1 Axes>"
      ]
     },
     "metadata": {},
     "output_type": "display_data"
    }
   ],
   "source": [
    "# plot\n",
    "fig, ax = plotting.init_plot(figsize=(6,4))\n",
    "ax.set_title('B)      Cross-section 2 — along-channel')\n",
    "\n",
    "cs_als.plot(x='ALS_m', color = 'grey', linestyle=\"solid\", ax=ax)\n",
    "cs_asv.plot(x='ASV_m', color='black',  linestyle=\"solid\", ax=ax)\n",
    "cs_s2.plot(x='S2_m', color = '#FF0000', linestyle=\"solid\", ax=ax)\n",
    "ax.set_xlabel(\"Distance (m)\")\n",
    "ax.set_ylabel(\"Elevation (m)\")\n",
    "#ax.axis('equal')\n",
    "ax.set_ylim(56,67.5) # 9.6,18.3 for Nuorgam, 56,67.5 for Utsjoki\n",
    "leg = ax.get_legend()\n",
    "leg.set_bbox_to_anchor((0.177, 0.271)) # 0.977, 0.971 for Nuorgam, 0.177, 0.271 for Utsjoki\n",
    "#leg.get_frame().set_edgecolor('none')\n",
    "fig.text(0.75, 0.35, 'Measuring direction', fontsize=11) # Utsjoki\n",
    "fig.text(0.75, 0.30, 'NW', fontsize=11) # Utsjoki start point of the compass \n",
    "fig.text(0.937, 0.30, 'SE', fontsize=11) # Utsjoki end point of the compass\n",
    "#fig.text(0.25, 0.85, 'Measuring direction', fontsize=11) # Nuorgam\n",
    "#fig.text(0.25, 0.80, 'SW', fontsize=11) # Nuorgam start point of the compass \n",
    "#fig.text(0.44, 0.80, 'NE', fontsize=11) # Nuorgam end point of the compass\n",
    "#fig.text(0.7, 0.5, 'Approx. water level', color='blue', fontsize=11) # Nuorgam water level text\n",
    "fig.text(0.1, 0.75, 'Approx. water level', color='blue', fontsize=11) # Utsjoki water level text for cs 1-2\n",
    "#fig.text(0.77, 0.77, 'Approx. water level', color='blue', fontsize=11) # Utsjoki water level text for cs 3\n",
    "ax.arrow(130, 58.7, 22, 0, \n",
    "         length_includes_head=True, head_width=0.25, head_length=1.5, \n",
    "         color='black'\n",
    "        )\n",
    "ax.axhline(y=64.6, color='#0000FF', linestyle='--') #y=13.4 for Nuorgam, y=64.6 for Utsjoki\n",
    "#B37700"
   ]
  },
  {
   "cell_type": "code",
   "execution_count": 14,
   "id": "37c1c5f7-7813-46f0-851e-f41adecf94ec",
   "metadata": {},
   "outputs": [],
   "source": [
    "# save as png\n",
    "#plotting.save_plot(fig=fig, name='valle_cs_2_v5', dpi=600)"
   ]
  },
  {
   "cell_type": "code",
   "execution_count": null,
   "id": "11f39a4c-b7b4-4830-b2d6-83d7a50c2603",
   "metadata": {},
   "outputs": [],
   "source": []
  }
 ],
 "metadata": {
  "kernelspec": {
   "display_name": "Python 3 (ipykernel)",
   "language": "python",
   "name": "python3"
  },
  "language_info": {
   "codemirror_mode": {
    "name": "ipython",
    "version": 3
   },
   "file_extension": ".py",
   "mimetype": "text/x-python",
   "name": "python",
   "nbconvert_exporter": "python",
   "pygments_lexer": "ipython3",
   "version": "3.12.1"
  }
 },
 "nbformat": 4,
 "nbformat_minor": 5
}
