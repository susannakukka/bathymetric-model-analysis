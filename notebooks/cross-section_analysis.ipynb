{
 "cells": [
  {
   "cell_type": "markdown",
   "id": "a915aab9-a1e4-4c00-bf8b-f5fc59f0bc5b",
   "metadata": {},
   "source": [
    "## Plotting of cross-section graphs"
   ]
  },
  {
   "cell_type": "code",
   "execution_count": 1,
   "id": "c9e489f2-eda4-4d0c-8e27-466d2b5ee04b",
   "metadata": {},
   "outputs": [],
   "source": [
    "import pandas as pd\n",
    "import numpy as np\n",
    "import math\n",
    "import seaborn as sns\n",
    "from sklearn.metrics import mean_squared_error, mean_absolute_error, max_error, r2_score\n",
    "from sklearn.linear_model import LinearRegression\n",
    "import matplotlib.pyplot as plt\n",
    "import scipy.stats as stats\n",
    "\n",
    "import plotting"
   ]
  },
  {
   "cell_type": "code",
   "execution_count": 2,
   "id": "0c2ef18b-8da9-4474-875f-9a538b073a69",
   "metadata": {},
   "outputs": [],
   "source": [
    "use_liberation_fonts = True\n",
    "if use_liberation_fonts:\n",
    "    plt.rcParams.update({\n",
    "        'font.family':'sans-serif',\n",
    "        'font.sans-serif':['Liberation Sans'],\n",
    "    })"
   ]
  },
  {
   "cell_type": "code",
   "execution_count": 3,
   "id": "33b98903-053c-4302-bea5-31a61fd2deef",
   "metadata": {},
   "outputs": [],
   "source": [
    "# import CROSS-SECTION (cs) ASV\n",
    "cs_asv = pd.read_csv('../data/output/nuorgam_cs_3_asv.csv', delimiter=',')"
   ]
  },
  {
   "cell_type": "code",
   "execution_count": 4,
   "id": "1e034c48-be93-4302-bf26-9f4e96d7bcc8",
   "metadata": {},
   "outputs": [],
   "source": [
    "# import CROSS-SECTION (cs) ALS\n",
    "cs_als = pd.read_csv('../data/output/nuorgam_cs_3_als.csv', delimiter=',')"
   ]
  },
  {
   "cell_type": "code",
   "execution_count": 5,
   "id": "2333891b-8d41-44b9-97d2-b06b5ad91230",
   "metadata": {},
   "outputs": [],
   "source": [
    "# import CROSS-SECTION (cs) S2\n",
    "cs_s2 = pd.read_csv('../data/output/nuorgam_cs_3_s2.csv', delimiter=',')"
   ]
  },
  {
   "cell_type": "code",
   "execution_count": 6,
   "id": "ffcdb8ba-776f-4807-8265-e2f81eccbb08",
   "metadata": {},
   "outputs": [
    {
     "data": {
      "text/html": [
       "<div>\n",
       "<style scoped>\n",
       "    .dataframe tbody tr th:only-of-type {\n",
       "        vertical-align: middle;\n",
       "    }\n",
       "\n",
       "    .dataframe tbody tr th {\n",
       "        vertical-align: top;\n",
       "    }\n",
       "\n",
       "    .dataframe thead th {\n",
       "        text-align: right;\n",
       "    }\n",
       "</style>\n",
       "<table border=\"1\" class=\"dataframe\">\n",
       "  <thead>\n",
       "    <tr style=\"text-align: right;\">\n",
       "      <th></th>\n",
       "      <th>ASV_m</th>\n",
       "      <th>ASV</th>\n",
       "    </tr>\n",
       "  </thead>\n",
       "  <tbody>\n",
       "    <tr>\n",
       "      <th>0</th>\n",
       "      <td>0.000000</td>\n",
       "      <td>NaN</td>\n",
       "    </tr>\n",
       "    <tr>\n",
       "      <th>1</th>\n",
       "      <td>0.287220</td>\n",
       "      <td>NaN</td>\n",
       "    </tr>\n",
       "    <tr>\n",
       "      <th>2</th>\n",
       "      <td>0.574441</td>\n",
       "      <td>NaN</td>\n",
       "    </tr>\n",
       "    <tr>\n",
       "      <th>3</th>\n",
       "      <td>0.861661</td>\n",
       "      <td>NaN</td>\n",
       "    </tr>\n",
       "    <tr>\n",
       "      <th>4</th>\n",
       "      <td>1.148881</td>\n",
       "      <td>NaN</td>\n",
       "    </tr>\n",
       "    <tr>\n",
       "      <th>...</th>\n",
       "      <td>...</td>\n",
       "      <td>...</td>\n",
       "    </tr>\n",
       "    <tr>\n",
       "      <th>860</th>\n",
       "      <td>247.009494</td>\n",
       "      <td>NaN</td>\n",
       "    </tr>\n",
       "    <tr>\n",
       "      <th>861</th>\n",
       "      <td>247.296714</td>\n",
       "      <td>NaN</td>\n",
       "    </tr>\n",
       "    <tr>\n",
       "      <th>862</th>\n",
       "      <td>247.583935</td>\n",
       "      <td>NaN</td>\n",
       "    </tr>\n",
       "    <tr>\n",
       "      <th>863</th>\n",
       "      <td>247.871155</td>\n",
       "      <td>NaN</td>\n",
       "    </tr>\n",
       "    <tr>\n",
       "      <th>864</th>\n",
       "      <td>247.871155</td>\n",
       "      <td>NaN</td>\n",
       "    </tr>\n",
       "  </tbody>\n",
       "</table>\n",
       "<p>865 rows × 2 columns</p>\n",
       "</div>"
      ],
      "text/plain": [
       "          ASV_m  ASV\n",
       "0      0.000000  NaN\n",
       "1      0.287220  NaN\n",
       "2      0.574441  NaN\n",
       "3      0.861661  NaN\n",
       "4      1.148881  NaN\n",
       "..          ...  ...\n",
       "860  247.009494  NaN\n",
       "861  247.296714  NaN\n",
       "862  247.583935  NaN\n",
       "863  247.871155  NaN\n",
       "864  247.871155  NaN\n",
       "\n",
       "[865 rows x 2 columns]"
      ]
     },
     "execution_count": 6,
     "metadata": {},
     "output_type": "execute_result"
    }
   ],
   "source": [
    "# check\n",
    "cs_asv"
   ]
  },
  {
   "cell_type": "code",
   "execution_count": 7,
   "id": "cae42201-448c-4177-a82c-2408ee174a55",
   "metadata": {},
   "outputs": [
    {
     "data": {
      "text/html": [
       "<div>\n",
       "<style scoped>\n",
       "    .dataframe tbody tr th:only-of-type {\n",
       "        vertical-align: middle;\n",
       "    }\n",
       "\n",
       "    .dataframe tbody tr th {\n",
       "        vertical-align: top;\n",
       "    }\n",
       "\n",
       "    .dataframe thead th {\n",
       "        text-align: right;\n",
       "    }\n",
       "</style>\n",
       "<table border=\"1\" class=\"dataframe\">\n",
       "  <thead>\n",
       "    <tr style=\"text-align: right;\">\n",
       "      <th></th>\n",
       "      <th>ALS_m</th>\n",
       "      <th>ALS</th>\n",
       "    </tr>\n",
       "  </thead>\n",
       "  <tbody>\n",
       "    <tr>\n",
       "      <th>0</th>\n",
       "      <td>0.000000</td>\n",
       "      <td>13.480963</td>\n",
       "    </tr>\n",
       "    <tr>\n",
       "      <th>1</th>\n",
       "      <td>0.287220</td>\n",
       "      <td>13.480414</td>\n",
       "    </tr>\n",
       "    <tr>\n",
       "      <th>2</th>\n",
       "      <td>0.574441</td>\n",
       "      <td>13.479113</td>\n",
       "    </tr>\n",
       "    <tr>\n",
       "      <th>3</th>\n",
       "      <td>0.861661</td>\n",
       "      <td>13.478677</td>\n",
       "    </tr>\n",
       "    <tr>\n",
       "      <th>4</th>\n",
       "      <td>1.148881</td>\n",
       "      <td>13.489906</td>\n",
       "    </tr>\n",
       "    <tr>\n",
       "      <th>...</th>\n",
       "      <td>...</td>\n",
       "      <td>...</td>\n",
       "    </tr>\n",
       "    <tr>\n",
       "      <th>860</th>\n",
       "      <td>247.009494</td>\n",
       "      <td>11.971139</td>\n",
       "    </tr>\n",
       "    <tr>\n",
       "      <th>861</th>\n",
       "      <td>247.296714</td>\n",
       "      <td>12.022099</td>\n",
       "    </tr>\n",
       "    <tr>\n",
       "      <th>862</th>\n",
       "      <td>247.583935</td>\n",
       "      <td>12.111342</td>\n",
       "    </tr>\n",
       "    <tr>\n",
       "      <th>863</th>\n",
       "      <td>247.871155</td>\n",
       "      <td>12.193409</td>\n",
       "    </tr>\n",
       "    <tr>\n",
       "      <th>864</th>\n",
       "      <td>247.871155</td>\n",
       "      <td>12.193409</td>\n",
       "    </tr>\n",
       "  </tbody>\n",
       "</table>\n",
       "<p>865 rows × 2 columns</p>\n",
       "</div>"
      ],
      "text/plain": [
       "          ALS_m        ALS\n",
       "0      0.000000  13.480963\n",
       "1      0.287220  13.480414\n",
       "2      0.574441  13.479113\n",
       "3      0.861661  13.478677\n",
       "4      1.148881  13.489906\n",
       "..          ...        ...\n",
       "860  247.009494  11.971139\n",
       "861  247.296714  12.022099\n",
       "862  247.583935  12.111342\n",
       "863  247.871155  12.193409\n",
       "864  247.871155  12.193409\n",
       "\n",
       "[865 rows x 2 columns]"
      ]
     },
     "execution_count": 7,
     "metadata": {},
     "output_type": "execute_result"
    }
   ],
   "source": [
    "# check\n",
    "cs_als"
   ]
  },
  {
   "cell_type": "code",
   "execution_count": 8,
   "id": "69f1804e-3b01-4cde-b4d0-5737230578c5",
   "metadata": {},
   "outputs": [
    {
     "data": {
      "text/html": [
       "<div>\n",
       "<style scoped>\n",
       "    .dataframe tbody tr th:only-of-type {\n",
       "        vertical-align: middle;\n",
       "    }\n",
       "\n",
       "    .dataframe tbody tr th {\n",
       "        vertical-align: top;\n",
       "    }\n",
       "\n",
       "    .dataframe thead th {\n",
       "        text-align: right;\n",
       "    }\n",
       "</style>\n",
       "<table border=\"1\" class=\"dataframe\">\n",
       "  <thead>\n",
       "    <tr style=\"text-align: right;\">\n",
       "      <th></th>\n",
       "      <th>S2_m</th>\n",
       "      <th>S2</th>\n",
       "    </tr>\n",
       "  </thead>\n",
       "  <tbody>\n",
       "    <tr>\n",
       "      <th>0</th>\n",
       "      <td>0.000000</td>\n",
       "      <td>18.009235</td>\n",
       "    </tr>\n",
       "    <tr>\n",
       "      <th>1</th>\n",
       "      <td>1.152889</td>\n",
       "      <td>18.009235</td>\n",
       "    </tr>\n",
       "    <tr>\n",
       "      <th>2</th>\n",
       "      <td>2.305778</td>\n",
       "      <td>18.009235</td>\n",
       "    </tr>\n",
       "    <tr>\n",
       "      <th>3</th>\n",
       "      <td>3.458667</td>\n",
       "      <td>18.009235</td>\n",
       "    </tr>\n",
       "    <tr>\n",
       "      <th>4</th>\n",
       "      <td>4.611556</td>\n",
       "      <td>16.002894</td>\n",
       "    </tr>\n",
       "    <tr>\n",
       "      <th>...</th>\n",
       "      <td>...</td>\n",
       "      <td>...</td>\n",
       "    </tr>\n",
       "    <tr>\n",
       "      <th>212</th>\n",
       "      <td>244.412488</td>\n",
       "      <td>12.104497</td>\n",
       "    </tr>\n",
       "    <tr>\n",
       "      <th>213</th>\n",
       "      <td>245.565377</td>\n",
       "      <td>14.352107</td>\n",
       "    </tr>\n",
       "    <tr>\n",
       "      <th>214</th>\n",
       "      <td>246.718266</td>\n",
       "      <td>14.352107</td>\n",
       "    </tr>\n",
       "    <tr>\n",
       "      <th>215</th>\n",
       "      <td>247.871155</td>\n",
       "      <td>14.352107</td>\n",
       "    </tr>\n",
       "    <tr>\n",
       "      <th>216</th>\n",
       "      <td>247.871155</td>\n",
       "      <td>14.352107</td>\n",
       "    </tr>\n",
       "  </tbody>\n",
       "</table>\n",
       "<p>217 rows × 2 columns</p>\n",
       "</div>"
      ],
      "text/plain": [
       "           S2_m         S2\n",
       "0      0.000000  18.009235\n",
       "1      1.152889  18.009235\n",
       "2      2.305778  18.009235\n",
       "3      3.458667  18.009235\n",
       "4      4.611556  16.002894\n",
       "..          ...        ...\n",
       "212  244.412488  12.104497\n",
       "213  245.565377  14.352107\n",
       "214  246.718266  14.352107\n",
       "215  247.871155  14.352107\n",
       "216  247.871155  14.352107\n",
       "\n",
       "[217 rows x 2 columns]"
      ]
     },
     "execution_count": 8,
     "metadata": {},
     "output_type": "execute_result"
    }
   ],
   "source": [
    "# check\n",
    "cs_s2"
   ]
  },
  {
   "cell_type": "code",
   "execution_count": 9,
   "id": "3af5de99-b4be-4659-b852-bae5afe2545f",
   "metadata": {},
   "outputs": [],
   "source": [
    "# rename S2 to SDB\n",
    "cs_s2 = cs_s2.rename(columns={\"S2\": \"SDB\"})"
   ]
  },
  {
   "cell_type": "code",
   "execution_count": 10,
   "id": "b481a14a-a2dc-4cfc-9997-e7a318135d13",
   "metadata": {},
   "outputs": [],
   "source": [
    "# replace \"None\" to nan\n",
    "cs_asv = cs_asv.replace('None', np.nan)\n",
    "cs_als = cs_als.replace('None', np.nan)\n",
    "cs_s2 = cs_s2.replace('None', np.nan)"
   ]
  },
  {
   "cell_type": "code",
   "execution_count": 11,
   "id": "1b11b599-5daf-4de8-b925-716b0d8f024b",
   "metadata": {},
   "outputs": [
    {
     "data": {
      "text/plain": [
       "<matplotlib.lines.Line2D at 0x4068e1e9f0>"
      ]
     },
     "execution_count": 11,
     "metadata": {},
     "output_type": "execute_result"
    },
    {
     "data": {
      "image/png": "[encoded data removed]",
      "text/plain": [
       "<Figure size 600x400 with 1 Axes>"
      ]
     },
     "metadata": {},
     "output_type": "display_data"
    }
   ],
   "source": [
    "# plot\n",
    "fig, ax = plotting.init_plot(figsize=(6,4))\n",
    "ax.set_title('C)      Cross-section 6 — cross-channel')\n",
    "\n",
    "cs_als.plot(x='ALS_m', color = 'grey', linestyle=\"solid\", ax=ax)\n",
    "cs_asv.plot(x='ASV_m', color='black',  linestyle=\"solid\", ax=ax)\n",
    "cs_s2.plot(x='S2_m', color = '#B37700', linestyle=\"solid\", ax=ax)\n",
    "ax.set_xlabel(\"Distance (m)\")\n",
    "ax.set_ylabel(\"Elevation (m)\")\n",
    "#ax.axis('equal')\n",
    "ax.set_ylim(9.6,18.3) # 9.6,18.3 for Nuorgam, 56,67.5 for Utsjoki\n",
    "leg = ax.get_legend()\n",
    "leg.set_bbox_to_anchor((0.977, 0.971)) # 0.977, 0.971 for Nuorgam, 0.177, 0.271 for Utsjoki\n",
    "#leg.get_frame().set_edgecolor('none')\n",
    "fig.text(0.25, 0.85, 'Measuring direction', fontsize=11)\n",
    "fig.text(0.25, 0.80, 'NW', fontsize=11) # start point of the compass \n",
    "fig.text(0.44, 0.80, 'SE', fontsize=11) # end point of the compass\n",
    "fig.text(0.7, 0.5, 'Approx. water level', color='blue', fontsize=11)\n",
    "ax.arrow(59, 16.95, 27, 0, \n",
    "         length_includes_head=True, head_width=0.25, head_length=2.5, \n",
    "         color='black'\n",
    "        )\n",
    "ax.axhline(y=13.4, color='#0000FF', linestyle='--')\n",
    "#B37700"
   ]
  },
  {
   "cell_type": "code",
   "execution_count": 16,
   "id": "37c1c5f7-7813-46f0-851e-f41adecf94ec",
   "metadata": {},
   "outputs": [],
   "source": [
    "# save as png\n",
    "#plotting.save_plot(fig=fig, name='nuorgam_cs_6_v4', dpi=600)"
   ]
  },
  {
   "cell_type": "code",
   "execution_count": null,
   "id": "11f39a4c-b7b4-4830-b2d6-83d7a50c2603",
   "metadata": {},
   "outputs": [],
   "source": []
  }
 ],
 "metadata": {
  "kernelspec": {
   "display_name": "Python 3 (ipykernel)",
   "language": "python",
   "name": "python3"
  },
  "language_info": {
   "codemirror_mode": {
    "name": "ipython",
    "version": 3
   },
   "file_extension": ".py",
   "mimetype": "text/x-python",
   "name": "python",
   "nbconvert_exporter": "python",
   "pygments_lexer": "ipython3",
   "version": "3.12.1"
  }
 },
 "nbformat": 4,
 "nbformat_minor": 5
}
