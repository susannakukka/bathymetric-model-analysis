{
 "cells": [
  {
   "cell_type": "markdown",
   "id": "6d7b94c8-6e2c-4ae8-b290-2f5a4c2071aa",
   "metadata": {},
   "source": [
    "## The Tana River annual hydrologic cycle plot (Figure 1) script"
   ]
  },
  {
   "cell_type": "code",
   "execution_count": 1,
   "id": "24257737-a5ca-4c44-a7a4-45bab2cd9185",
   "metadata": {},
   "outputs": [],
   "source": [
    "import pandas as pd\n",
    "import numpy as np\n",
    "import math\n",
    "import seaborn as sns\n",
    "from sklearn.metrics import mean_squared_error, mean_absolute_error, max_error, r2_score\n",
    "from sklearn.linear_model import LinearRegression\n",
    "import matplotlib.pyplot as plt\n",
    "import scipy.stats as stats\n",
    "\n",
    "import plotting"
   ]
  },
  {
   "cell_type": "code",
   "execution_count": 2,
   "id": "a1ee3a6d-e9c7-4a88-a68d-c08799aff062",
   "metadata": {},
   "outputs": [],
   "source": [
    "# set plot font to Arial\n",
    "use_liberation_fonts = True\n",
    "if use_liberation_fonts:\n",
    "    plt.rcParams.update({\n",
    "        'font.family':'sans-serif',\n",
    "        'font.sans-serif':['Liberation Sans'],\n",
    "    })"
   ]
  },
  {
   "cell_type": "code",
   "execution_count": 3,
   "id": "b2785f6e-d528-41c8-8a68-23fe0d3a88c6",
   "metadata": {},
   "outputs": [],
   "source": [
    "# import flow rate data\n",
    "data = pd.read_csv('../data/Virtaama_Alaköngäs_20230101_20231231_v2.csv', delimiter=';')"
   ]
  },
  {
   "cell_type": "code",
   "execution_count": 4,
   "id": "e4ecdc2e-dad3-4542-8fab-2d6a6120ad87",
   "metadata": {},
   "outputs": [],
   "source": [
    "data.columns = [\"Aika\", \"Discharge\"]"
   ]
  },
  {
   "cell_type": "code",
   "execution_count": 5,
   "id": "ce8a2495-6710-4df1-9dd1-d61c3ea652ae",
   "metadata": {},
   "outputs": [],
   "source": [
    "# set \"Aika\" (eng. time) as datetime and index\n",
    "data[\"Aika\"] = pd.to_datetime(data[\"Aika\"], format=\"mixed\", dayfirst=True)\n",
    "data = data.set_index(\"Aika\")"
   ]
  },
  {
   "cell_type": "code",
   "execution_count": 6,
   "id": "6e1de0cc-2111-4118-9547-63b057ed8c84",
   "metadata": {},
   "outputs": [
    {
     "data": {
      "text/html": [
       "<div>\n",
       "<style scoped>\n",
       "    .dataframe tbody tr th:only-of-type {\n",
       "        vertical-align: middle;\n",
       "    }\n",
       "\n",
       "    .dataframe tbody tr th {\n",
       "        vertical-align: top;\n",
       "    }\n",
       "\n",
       "    .dataframe thead th {\n",
       "        text-align: right;\n",
       "    }\n",
       "</style>\n",
       "<table border=\"1\" class=\"dataframe\">\n",
       "  <thead>\n",
       "    <tr style=\"text-align: right;\">\n",
       "      <th></th>\n",
       "      <th>Discharge</th>\n",
       "    </tr>\n",
       "    <tr>\n",
       "      <th>Aika</th>\n",
       "      <th></th>\n",
       "    </tr>\n",
       "  </thead>\n",
       "  <tbody>\n",
       "    <tr>\n",
       "      <th>2023-01-01</th>\n",
       "      <td>64.83</td>\n",
       "    </tr>\n",
       "    <tr>\n",
       "      <th>2023-01-02</th>\n",
       "      <td>64.87</td>\n",
       "    </tr>\n",
       "    <tr>\n",
       "      <th>2023-01-03</th>\n",
       "      <td>64.13</td>\n",
       "    </tr>\n",
       "    <tr>\n",
       "      <th>2023-01-04</th>\n",
       "      <td>63.62</td>\n",
       "    </tr>\n",
       "    <tr>\n",
       "      <th>2023-01-05</th>\n",
       "      <td>63.12</td>\n",
       "    </tr>\n",
       "    <tr>\n",
       "      <th>...</th>\n",
       "      <td>...</td>\n",
       "    </tr>\n",
       "    <tr>\n",
       "      <th>2023-12-27</th>\n",
       "      <td>368.28</td>\n",
       "    </tr>\n",
       "    <tr>\n",
       "      <th>2023-12-28</th>\n",
       "      <td>365.34</td>\n",
       "    </tr>\n",
       "    <tr>\n",
       "      <th>2023-12-29</th>\n",
       "      <td>364.73</td>\n",
       "    </tr>\n",
       "    <tr>\n",
       "      <th>2023-12-30</th>\n",
       "      <td>364.66</td>\n",
       "    </tr>\n",
       "    <tr>\n",
       "      <th>2023-12-31</th>\n",
       "      <td>362.25</td>\n",
       "    </tr>\n",
       "  </tbody>\n",
       "</table>\n",
       "<p>352 rows × 1 columns</p>\n",
       "</div>"
      ],
      "text/plain": [
       "            Discharge\n",
       "Aika                 \n",
       "2023-01-01      64.83\n",
       "2023-01-02      64.87\n",
       "2023-01-03      64.13\n",
       "2023-01-04      63.62\n",
       "2023-01-05      63.12\n",
       "...               ...\n",
       "2023-12-27     368.28\n",
       "2023-12-28     365.34\n",
       "2023-12-29     364.73\n",
       "2023-12-30     364.66\n",
       "2023-12-31     362.25\n",
       "\n",
       "[352 rows x 1 columns]"
      ]
     },
     "execution_count": 6,
     "metadata": {},
     "output_type": "execute_result"
    }
   ],
   "source": [
    "# check\n",
    "data"
   ]
  },
  {
   "cell_type": "code",
   "execution_count": 7,
   "id": "d9791051-1f21-4e38-9594-b52bd691ddf6",
   "metadata": {},
   "outputs": [],
   "source": [
    "# import weather data\n",
    "wdata = pd.read_csv('../data/Sää_UtsjokiNuorgam_20230101-20231231_v2.csv', delimiter=',')"
   ]
  },
  {
   "cell_type": "code",
   "execution_count": 8,
   "id": "9eaff19c-b055-4393-a15d-8357107f1b2f",
   "metadata": {},
   "outputs": [],
   "source": [
    "wdata.columns = ['Aika', 'Precipitation', 'Temperature']"
   ]
  },
  {
   "cell_type": "code",
   "execution_count": 9,
   "id": "59bc6ed6-9efd-43d7-8398-54563823bbe4",
   "metadata": {},
   "outputs": [],
   "source": [
    "# set \"Aika\" (eng. time) as datetime and index\n",
    "wdata[\"Aika\"] = pd.to_datetime(wdata[\"Aika\"], format=\"mixed\", dayfirst=True)\n",
    "wdata = wdata.set_index(\"Aika\")"
   ]
  },
  {
   "cell_type": "code",
   "execution_count": 10,
   "id": "74f419cb-5311-48f3-833c-a2ac165b08bf",
   "metadata": {},
   "outputs": [
    {
     "data": {
      "text/html": [
       "<div>\n",
       "<style scoped>\n",
       "    .dataframe tbody tr th:only-of-type {\n",
       "        vertical-align: middle;\n",
       "    }\n",
       "\n",
       "    .dataframe tbody tr th {\n",
       "        vertical-align: top;\n",
       "    }\n",
       "\n",
       "    .dataframe thead th {\n",
       "        text-align: right;\n",
       "    }\n",
       "</style>\n",
       "<table border=\"1\" class=\"dataframe\">\n",
       "  <thead>\n",
       "    <tr style=\"text-align: right;\">\n",
       "      <th></th>\n",
       "      <th>Precipitation</th>\n",
       "      <th>Temperature</th>\n",
       "    </tr>\n",
       "    <tr>\n",
       "      <th>Aika</th>\n",
       "      <th></th>\n",
       "      <th></th>\n",
       "    </tr>\n",
       "  </thead>\n",
       "  <tbody>\n",
       "    <tr>\n",
       "      <th>2023-01-01</th>\n",
       "      <td>4.9</td>\n",
       "      <td>-3.4</td>\n",
       "    </tr>\n",
       "    <tr>\n",
       "      <th>2023-01-02</th>\n",
       "      <td>0.5</td>\n",
       "      <td>-2.3</td>\n",
       "    </tr>\n",
       "    <tr>\n",
       "      <th>2023-01-03</th>\n",
       "      <td>0.2</td>\n",
       "      <td>-16.7</td>\n",
       "    </tr>\n",
       "    <tr>\n",
       "      <th>2023-01-04</th>\n",
       "      <td>-1.0</td>\n",
       "      <td>-14.7</td>\n",
       "    </tr>\n",
       "    <tr>\n",
       "      <th>2023-01-05</th>\n",
       "      <td>-1.0</td>\n",
       "      <td>-12.7</td>\n",
       "    </tr>\n",
       "    <tr>\n",
       "      <th>...</th>\n",
       "      <td>...</td>\n",
       "      <td>...</td>\n",
       "    </tr>\n",
       "    <tr>\n",
       "      <th>2023-12-27</th>\n",
       "      <td>0.3</td>\n",
       "      <td>-8.3</td>\n",
       "    </tr>\n",
       "    <tr>\n",
       "      <th>2023-12-28</th>\n",
       "      <td>-1.0</td>\n",
       "      <td>-20.1</td>\n",
       "    </tr>\n",
       "    <tr>\n",
       "      <th>2023-12-29</th>\n",
       "      <td>-1.0</td>\n",
       "      <td>-12.0</td>\n",
       "    </tr>\n",
       "    <tr>\n",
       "      <th>2023-12-30</th>\n",
       "      <td>-1.0</td>\n",
       "      <td>-21.4</td>\n",
       "    </tr>\n",
       "    <tr>\n",
       "      <th>2023-12-31</th>\n",
       "      <td>-1.0</td>\n",
       "      <td>-21.5</td>\n",
       "    </tr>\n",
       "  </tbody>\n",
       "</table>\n",
       "<p>365 rows × 2 columns</p>\n",
       "</div>"
      ],
      "text/plain": [
       "            Precipitation  Temperature\n",
       "Aika                                  \n",
       "2023-01-01            4.9         -3.4\n",
       "2023-01-02            0.5         -2.3\n",
       "2023-01-03            0.2        -16.7\n",
       "2023-01-04           -1.0        -14.7\n",
       "2023-01-05           -1.0        -12.7\n",
       "...                   ...          ...\n",
       "2023-12-27            0.3         -8.3\n",
       "2023-12-28           -1.0        -20.1\n",
       "2023-12-29           -1.0        -12.0\n",
       "2023-12-30           -1.0        -21.4\n",
       "2023-12-31           -1.0        -21.5\n",
       "\n",
       "[365 rows x 2 columns]"
      ]
     },
     "execution_count": 10,
     "metadata": {},
     "output_type": "execute_result"
    }
   ],
   "source": [
    "# check\n",
    "wdata"
   ]
  },
  {
   "cell_type": "code",
   "execution_count": 11,
   "id": "7335c884-bf92-4e8f-b737-e4b64a301e1a",
   "metadata": {},
   "outputs": [],
   "source": [
    "wdata['Precipitation'] = wdata['Precipitation'].replace(-1.0,np.NaN)"
   ]
  },
  {
   "cell_type": "code",
   "execution_count": 12,
   "id": "0462940e-0243-4257-91ec-d944146374f4",
   "metadata": {},
   "outputs": [
    {
     "data": {
      "text/html": [
       "<div>\n",
       "<style scoped>\n",
       "    .dataframe tbody tr th:only-of-type {\n",
       "        vertical-align: middle;\n",
       "    }\n",
       "\n",
       "    .dataframe tbody tr th {\n",
       "        vertical-align: top;\n",
       "    }\n",
       "\n",
       "    .dataframe thead th {\n",
       "        text-align: right;\n",
       "    }\n",
       "</style>\n",
       "<table border=\"1\" class=\"dataframe\">\n",
       "  <thead>\n",
       "    <tr style=\"text-align: right;\">\n",
       "      <th></th>\n",
       "      <th>Precipitation</th>\n",
       "      <th>Temperature</th>\n",
       "    </tr>\n",
       "    <tr>\n",
       "      <th>Aika</th>\n",
       "      <th></th>\n",
       "      <th></th>\n",
       "    </tr>\n",
       "  </thead>\n",
       "  <tbody>\n",
       "    <tr>\n",
       "      <th>2023-01-01</th>\n",
       "      <td>4.9</td>\n",
       "      <td>-3.4</td>\n",
       "    </tr>\n",
       "    <tr>\n",
       "      <th>2023-01-02</th>\n",
       "      <td>0.5</td>\n",
       "      <td>-2.3</td>\n",
       "    </tr>\n",
       "    <tr>\n",
       "      <th>2023-01-03</th>\n",
       "      <td>0.2</td>\n",
       "      <td>-16.7</td>\n",
       "    </tr>\n",
       "    <tr>\n",
       "      <th>2023-01-04</th>\n",
       "      <td>NaN</td>\n",
       "      <td>-14.7</td>\n",
       "    </tr>\n",
       "    <tr>\n",
       "      <th>2023-01-05</th>\n",
       "      <td>NaN</td>\n",
       "      <td>-12.7</td>\n",
       "    </tr>\n",
       "    <tr>\n",
       "      <th>...</th>\n",
       "      <td>...</td>\n",
       "      <td>...</td>\n",
       "    </tr>\n",
       "    <tr>\n",
       "      <th>2023-12-27</th>\n",
       "      <td>0.3</td>\n",
       "      <td>-8.3</td>\n",
       "    </tr>\n",
       "    <tr>\n",
       "      <th>2023-12-28</th>\n",
       "      <td>NaN</td>\n",
       "      <td>-20.1</td>\n",
       "    </tr>\n",
       "    <tr>\n",
       "      <th>2023-12-29</th>\n",
       "      <td>NaN</td>\n",
       "      <td>-12.0</td>\n",
       "    </tr>\n",
       "    <tr>\n",
       "      <th>2023-12-30</th>\n",
       "      <td>NaN</td>\n",
       "      <td>-21.4</td>\n",
       "    </tr>\n",
       "    <tr>\n",
       "      <th>2023-12-31</th>\n",
       "      <td>NaN</td>\n",
       "      <td>-21.5</td>\n",
       "    </tr>\n",
       "  </tbody>\n",
       "</table>\n",
       "<p>365 rows × 2 columns</p>\n",
       "</div>"
      ],
      "text/plain": [
       "            Precipitation  Temperature\n",
       "Aika                                  \n",
       "2023-01-01            4.9         -3.4\n",
       "2023-01-02            0.5         -2.3\n",
       "2023-01-03            0.2        -16.7\n",
       "2023-01-04            NaN        -14.7\n",
       "2023-01-05            NaN        -12.7\n",
       "...                   ...          ...\n",
       "2023-12-27            0.3         -8.3\n",
       "2023-12-28            NaN        -20.1\n",
       "2023-12-29            NaN        -12.0\n",
       "2023-12-30            NaN        -21.4\n",
       "2023-12-31            NaN        -21.5\n",
       "\n",
       "[365 rows x 2 columns]"
      ]
     },
     "execution_count": 12,
     "metadata": {},
     "output_type": "execute_result"
    }
   ],
   "source": [
    "wdata"
   ]
  },
  {
   "cell_type": "code",
   "execution_count": 13,
   "id": "f849c081-82c8-4ce5-86de-045f69ad0ce9",
   "metadata": {},
   "outputs": [],
   "source": [
    "# create a Boolean mask for the rows to remove\n",
    "#mask = wdata['Precipitation'] == -1.0\n",
    "\n",
    "# select all rows except the ones that contain 'Coca Cola'\n",
    "#wdata = wdata[~mask]"
   ]
  },
  {
   "cell_type": "code",
   "execution_count": 14,
   "id": "f102208d-544a-4464-b1c4-7aa59195f261",
   "metadata": {},
   "outputs": [],
   "source": [
    "#x = wdata.index"
   ]
  },
  {
   "cell_type": "code",
   "execution_count": 18,
   "id": "b7f5e407-e379-41a7-a3ec-70b6fcd2e691",
   "metadata": {},
   "outputs": [
    {
     "data": {
      "image/png": "[encoded data removed]",
      "text/plain": [
       "<Figure size 800x400 with 3 Axes>"
      ]
     },
     "metadata": {},
     "output_type": "display_data"
    }
   ],
   "source": [
    "# plot\n",
    "fig, ax = plotting.init_plot()\n",
    "wdata.plot(y='Temperature', color='black', ax=ax, legend=True)\n",
    "#wdata.plot(y='Precipitation', color='#B37700', ax=ax, legend=True)\n",
    "#wdata['Precipitation'].plot.bar(color='#B37700', ax=ax, legend=True)\n",
    "#wdata.hist(x='Precipitation', density=True, histtype='step', cumulative=True, legend=True)\n",
    "ax.get_legend().get_frame().set_edgecolor('none')\n",
    "\n",
    "ax.set_xlabel(\"Date\")\n",
    "ax.set_ylabel('Precipitation (mm/day) and Temperature (°C)')\n",
    "\n",
    "ax2 = ax.twinx()\n",
    "ax2.set_ylabel(\"Discharge m$^3$/s\")\n",
    "data.plot(color='#0000FF', ax=ax2, legend=True)\n",
    "\n",
    "ax3 = ax.twiny()\n",
    "wdata['Precipitation'].plot.bar(color='#B37700', ax=ax3, width=2, legend=True)\n",
    "ax3.xaxis.set_visible(False)\n",
    "\n",
    "leg2 = ax2.get_legend()\n",
    "leg2.set_bbox_to_anchor((0.977, 0.871))\n",
    "leg2.get_frame().set_edgecolor('none')"
   ]
  },
  {
   "cell_type": "code",
   "execution_count": 12,
   "id": "3d264fb0-a170-4dca-ad1d-ae0631643180",
   "metadata": {},
   "outputs": [],
   "source": [
    "# save as png\n",
    "#plotting.save_plot(fig=fig, name='annual_weather', dpi=600)"
   ]
  }
 ],
 "metadata": {
  "kernelspec": {
   "display_name": "Python 3 (ipykernel)",
   "language": "python",
   "name": "python3"
  },
  "language_info": {
   "codemirror_mode": {
    "name": "ipython",
    "version": 3
   },
   "file_extension": ".py",
   "mimetype": "text/x-python",
   "name": "python",
   "nbconvert_exporter": "python",
   "pygments_lexer": "ipython3",
   "version": "3.12.1"
  }
 },
 "nbformat": 4,
 "nbformat_minor": 5
}
