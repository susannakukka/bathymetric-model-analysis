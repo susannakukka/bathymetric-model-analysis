{
 "cells": [
  {
   "cell_type": "code",
   "execution_count": 23,
   "id": "dfe6d83a-ad00-4ec6-a466-a8d302f93368",
   "metadata": {},
   "outputs": [],
   "source": [
    "from sklearn.metrics import mean_squared_error, mean_absolute_error"
   ]
  },
  {
   "cell_type": "code",
   "execution_count": 13,
   "id": "f65dceaf-81da-49d4-a251-276023588157",
   "metadata": {},
   "outputs": [],
   "source": [
    "import pandas as pd\n",
    "import numpy as np\n",
    "import math"
   ]
  },
  {
   "cell_type": "markdown",
   "id": "917e2b01-8f1e-4f2d-903c-37db83ad097a",
   "metadata": {},
   "source": [
    "## Valle rmse"
   ]
  },
  {
   "cell_type": "code",
   "execution_count": 3,
   "id": "cbb16274-b4c2-463d-ab9f-a7db3ac4b5f2",
   "metadata": {},
   "outputs": [],
   "source": [
    "#FILE NAME RENAMED WRONG, IT IS ACTUALLY ASV!!!!\n",
    "valle_asv = pd.read_csv('../data/output/Valle_ALS_validaatiopisteet_vertailuun_siivottu_2.csv', delimiter=';')"
   ]
  },
  {
   "cell_type": "code",
   "execution_count": 4,
   "id": "17009772-db16-488d-b9dc-890a9031db0b",
   "metadata": {},
   "outputs": [
    {
     "data": {
      "text/html": [
       "<div>\n",
       "<style scoped>\n",
       "    .dataframe tbody tr th:only-of-type {\n",
       "        vertical-align: middle;\n",
       "    }\n",
       "\n",
       "    .dataframe tbody tr th {\n",
       "        vertical-align: top;\n",
       "    }\n",
       "\n",
       "    .dataframe thead th {\n",
       "        text-align: right;\n",
       "    }\n",
       "</style>\n",
       "<table border=\"1\" class=\"dataframe\">\n",
       "  <thead>\n",
       "    <tr style=\"text-align: right;\">\n",
       "      <th></th>\n",
       "      <th>PointNo</th>\n",
       "      <th>Elevation_orthometricH</th>\n",
       "      <th>Latitude</th>\n",
       "      <th>Longitude</th>\n",
       "      <th>Height_ellipsoidalH</th>\n",
       "      <th>ASV_depth</th>\n",
       "      <th>Geoid_h</th>\n",
       "      <th>Water_lvl</th>\n",
       "      <th>ASV_ElevationH</th>\n",
       "      <th>Validation_depth</th>\n",
       "      <th>ASV_Height_ellipsoidalH</th>\n",
       "    </tr>\n",
       "  </thead>\n",
       "  <tbody>\n",
       "    <tr>\n",
       "      <th>0</th>\n",
       "      <td>valle14</td>\n",
       "      <td>64.832</td>\n",
       "      <td>69.925991</td>\n",
       "      <td>27.001370</td>\n",
       "      <td>89.137092</td>\n",
       "      <td>-1.168000</td>\n",
       "      <td>24.52</td>\n",
       "      <td>64.41</td>\n",
       "      <td>63.242000</td>\n",
       "      <td>-1.590000</td>\n",
       "      <td>87.762000</td>\n",
       "    </tr>\n",
       "    <tr>\n",
       "      <th>1</th>\n",
       "      <td>valle12</td>\n",
       "      <td>64.710</td>\n",
       "      <td>69.926008</td>\n",
       "      <td>27.001523</td>\n",
       "      <td>89.015000</td>\n",
       "      <td>-1.238200</td>\n",
       "      <td>24.52</td>\n",
       "      <td>64.41</td>\n",
       "      <td>63.171800</td>\n",
       "      <td>-1.538200</td>\n",
       "      <td>87.691800</td>\n",
       "    </tr>\n",
       "    <tr>\n",
       "      <th>2</th>\n",
       "      <td>valle26</td>\n",
       "      <td>64.875</td>\n",
       "      <td>69.925940</td>\n",
       "      <td>27.001467</td>\n",
       "      <td>89.180286</td>\n",
       "      <td>-0.908000</td>\n",
       "      <td>24.52</td>\n",
       "      <td>64.41</td>\n",
       "      <td>63.502000</td>\n",
       "      <td>-1.373000</td>\n",
       "      <td>88.022000</td>\n",
       "    </tr>\n",
       "    <tr>\n",
       "      <th>3</th>\n",
       "      <td>valle17</td>\n",
       "      <td>65.037</td>\n",
       "      <td>69.926075</td>\n",
       "      <td>27.001217</td>\n",
       "      <td>89.342939</td>\n",
       "      <td>-0.082000</td>\n",
       "      <td>24.52</td>\n",
       "      <td>64.41</td>\n",
       "      <td>64.328000</td>\n",
       "      <td>-0.709000</td>\n",
       "      <td>88.848000</td>\n",
       "    </tr>\n",
       "    <tr>\n",
       "      <th>4</th>\n",
       "      <td>valle15</td>\n",
       "      <td>64.981</td>\n",
       "      <td>69.925987</td>\n",
       "      <td>27.001334</td>\n",
       "      <td>89.286498</td>\n",
       "      <td>-1.155102</td>\n",
       "      <td>24.52</td>\n",
       "      <td>64.41</td>\n",
       "      <td>63.254898</td>\n",
       "      <td>-1.726102</td>\n",
       "      <td>87.774898</td>\n",
       "    </tr>\n",
       "  </tbody>\n",
       "</table>\n",
       "</div>"
      ],
      "text/plain": [
       "   PointNo  Elevation_orthometricH   Latitude  Longitude  Height_ellipsoidalH  \\\n",
       "0  valle14                  64.832  69.925991  27.001370            89.137092   \n",
       "1  valle12                  64.710  69.926008  27.001523            89.015000   \n",
       "2  valle26                  64.875  69.925940  27.001467            89.180286   \n",
       "3  valle17                  65.037  69.926075  27.001217            89.342939   \n",
       "4  valle15                  64.981  69.925987  27.001334            89.286498   \n",
       "\n",
       "   ASV_depth  Geoid_h  Water_lvl  ASV_ElevationH  Validation_depth  \\\n",
       "0  -1.168000    24.52      64.41       63.242000         -1.590000   \n",
       "1  -1.238200    24.52      64.41       63.171800         -1.538200   \n",
       "2  -0.908000    24.52      64.41       63.502000         -1.373000   \n",
       "3  -0.082000    24.52      64.41       64.328000         -0.709000   \n",
       "4  -1.155102    24.52      64.41       63.254898         -1.726102   \n",
       "\n",
       "   ASV_Height_ellipsoidalH  \n",
       "0                87.762000  \n",
       "1                87.691800  \n",
       "2                88.022000  \n",
       "3                88.848000  \n",
       "4                87.774898  "
      ]
     },
     "execution_count": 4,
     "metadata": {},
     "output_type": "execute_result"
    }
   ],
   "source": [
    "valle_asv"
   ]
  },
  {
   "cell_type": "code",
   "execution_count": 6,
   "id": "286a1e2a-250b-4dcc-a3ca-4c06df5aebde",
   "metadata": {},
   "outputs": [],
   "source": [
    "valle_als = pd.read_csv('../data/output/Valle_ALS_validaatiopisteet_vertailuun_siivottu.csv', delimiter=';')"
   ]
  },
  {
   "cell_type": "code",
   "execution_count": 7,
   "id": "356096ff-8f99-4262-a5fd-12f52597f3bf",
   "metadata": {},
   "outputs": [
    {
     "data": {
      "text/html": [
       "<div>\n",
       "<style scoped>\n",
       "    .dataframe tbody tr th:only-of-type {\n",
       "        vertical-align: middle;\n",
       "    }\n",
       "\n",
       "    .dataframe tbody tr th {\n",
       "        vertical-align: top;\n",
       "    }\n",
       "\n",
       "    .dataframe thead th {\n",
       "        text-align: right;\n",
       "    }\n",
       "</style>\n",
       "<table border=\"1\" class=\"dataframe\">\n",
       "  <thead>\n",
       "    <tr style=\"text-align: right;\">\n",
       "      <th></th>\n",
       "      <th>Latitude</th>\n",
       "      <th>Longitude</th>\n",
       "      <th>Height</th>\n",
       "      <th>IDW</th>\n",
       "    </tr>\n",
       "  </thead>\n",
       "  <tbody>\n",
       "    <tr>\n",
       "      <th>0</th>\n",
       "      <td>69.925891</td>\n",
       "      <td>27.001095</td>\n",
       "      <td>90.322226</td>\n",
       "      <td>89.922427</td>\n",
       "    </tr>\n",
       "    <tr>\n",
       "      <th>1</th>\n",
       "      <td>69.925836</td>\n",
       "      <td>27.001092</td>\n",
       "      <td>90.577668</td>\n",
       "      <td>91.074363</td>\n",
       "    </tr>\n",
       "    <tr>\n",
       "      <th>2</th>\n",
       "      <td>69.925814</td>\n",
       "      <td>27.001266</td>\n",
       "      <td>90.286394</td>\n",
       "      <td>90.332491</td>\n",
       "    </tr>\n",
       "    <tr>\n",
       "      <th>3</th>\n",
       "      <td>69.925784</td>\n",
       "      <td>27.001441</td>\n",
       "      <td>89.975550</td>\n",
       "      <td>90.559079</td>\n",
       "    </tr>\n",
       "    <tr>\n",
       "      <th>4</th>\n",
       "      <td>69.925791</td>\n",
       "      <td>27.001553</td>\n",
       "      <td>89.580965</td>\n",
       "      <td>87.827659</td>\n",
       "    </tr>\n",
       "    <tr>\n",
       "      <th>5</th>\n",
       "      <td>69.925809</td>\n",
       "      <td>27.001623</td>\n",
       "      <td>89.449445</td>\n",
       "      <td>87.905665</td>\n",
       "    </tr>\n",
       "    <tr>\n",
       "      <th>6</th>\n",
       "      <td>69.925835</td>\n",
       "      <td>27.001534</td>\n",
       "      <td>89.612676</td>\n",
       "      <td>89.634905</td>\n",
       "    </tr>\n",
       "    <tr>\n",
       "      <th>7</th>\n",
       "      <td>69.925848</td>\n",
       "      <td>27.001642</td>\n",
       "      <td>89.241923</td>\n",
       "      <td>87.853051</td>\n",
       "    </tr>\n",
       "    <tr>\n",
       "      <th>8</th>\n",
       "      <td>69.925882</td>\n",
       "      <td>27.001693</td>\n",
       "      <td>89.112957</td>\n",
       "      <td>89.101316</td>\n",
       "    </tr>\n",
       "    <tr>\n",
       "      <th>9</th>\n",
       "      <td>69.925926</td>\n",
       "      <td>27.001660</td>\n",
       "      <td>89.041733</td>\n",
       "      <td>89.003451</td>\n",
       "    </tr>\n",
       "    <tr>\n",
       "      <th>10</th>\n",
       "      <td>69.925965</td>\n",
       "      <td>27.001551</td>\n",
       "      <td>89.026915</td>\n",
       "      <td>88.060284</td>\n",
       "    </tr>\n",
       "    <tr>\n",
       "      <th>11</th>\n",
       "      <td>69.926008</td>\n",
       "      <td>27.001523</td>\n",
       "      <td>89.015000</td>\n",
       "      <td>88.153765</td>\n",
       "    </tr>\n",
       "    <tr>\n",
       "      <th>12</th>\n",
       "      <td>69.925997</td>\n",
       "      <td>27.001470</td>\n",
       "      <td>89.102403</td>\n",
       "      <td>87.821231</td>\n",
       "    </tr>\n",
       "    <tr>\n",
       "      <th>13</th>\n",
       "      <td>69.925991</td>\n",
       "      <td>27.001370</td>\n",
       "      <td>89.137092</td>\n",
       "      <td>89.156509</td>\n",
       "    </tr>\n",
       "    <tr>\n",
       "      <th>14</th>\n",
       "      <td>69.925987</td>\n",
       "      <td>27.001334</td>\n",
       "      <td>89.286498</td>\n",
       "      <td>89.358409</td>\n",
       "    </tr>\n",
       "    <tr>\n",
       "      <th>15</th>\n",
       "      <td>69.926005</td>\n",
       "      <td>27.001231</td>\n",
       "      <td>89.554811</td>\n",
       "      <td>87.859369</td>\n",
       "    </tr>\n",
       "    <tr>\n",
       "      <th>16</th>\n",
       "      <td>69.926075</td>\n",
       "      <td>27.001217</td>\n",
       "      <td>89.342939</td>\n",
       "      <td>89.250821</td>\n",
       "    </tr>\n",
       "    <tr>\n",
       "      <th>17</th>\n",
       "      <td>69.926056</td>\n",
       "      <td>27.001057</td>\n",
       "      <td>89.539140</td>\n",
       "      <td>89.946489</td>\n",
       "    </tr>\n",
       "    <tr>\n",
       "      <th>18</th>\n",
       "      <td>69.926037</td>\n",
       "      <td>27.000938</td>\n",
       "      <td>89.820696</td>\n",
       "      <td>90.262682</td>\n",
       "    </tr>\n",
       "    <tr>\n",
       "      <th>19</th>\n",
       "      <td>69.926012</td>\n",
       "      <td>27.000849</td>\n",
       "      <td>90.356028</td>\n",
       "      <td>89.843317</td>\n",
       "    </tr>\n",
       "    <tr>\n",
       "      <th>20</th>\n",
       "      <td>69.925984</td>\n",
       "      <td>27.001094</td>\n",
       "      <td>89.761081</td>\n",
       "      <td>89.889122</td>\n",
       "    </tr>\n",
       "    <tr>\n",
       "      <th>21</th>\n",
       "      <td>69.925950</td>\n",
       "      <td>27.000988</td>\n",
       "      <td>90.222490</td>\n",
       "      <td>90.462011</td>\n",
       "    </tr>\n",
       "    <tr>\n",
       "      <th>22</th>\n",
       "      <td>69.925954</td>\n",
       "      <td>27.001241</td>\n",
       "      <td>89.573742</td>\n",
       "      <td>89.624232</td>\n",
       "    </tr>\n",
       "    <tr>\n",
       "      <th>23</th>\n",
       "      <td>69.925940</td>\n",
       "      <td>27.001369</td>\n",
       "      <td>89.533038</td>\n",
       "      <td>89.709069</td>\n",
       "    </tr>\n",
       "    <tr>\n",
       "      <th>24</th>\n",
       "      <td>69.925924</td>\n",
       "      <td>27.001293</td>\n",
       "      <td>89.769848</td>\n",
       "      <td>89.876434</td>\n",
       "    </tr>\n",
       "    <tr>\n",
       "      <th>25</th>\n",
       "      <td>69.925940</td>\n",
       "      <td>27.001467</td>\n",
       "      <td>89.180286</td>\n",
       "      <td>87.946312</td>\n",
       "    </tr>\n",
       "    <tr>\n",
       "      <th>26</th>\n",
       "      <td>69.925957</td>\n",
       "      <td>27.001563</td>\n",
       "      <td>89.071451</td>\n",
       "      <td>87.278308</td>\n",
       "    </tr>\n",
       "    <tr>\n",
       "      <th>27</th>\n",
       "      <td>69.925912</td>\n",
       "      <td>27.000733</td>\n",
       "      <td>91.126256</td>\n",
       "      <td>91.495682</td>\n",
       "    </tr>\n",
       "    <tr>\n",
       "      <th>28</th>\n",
       "      <td>69.925833</td>\n",
       "      <td>27.000752</td>\n",
       "      <td>92.134185</td>\n",
       "      <td>92.006855</td>\n",
       "    </tr>\n",
       "    <tr>\n",
       "      <th>29</th>\n",
       "      <td>69.925730</td>\n",
       "      <td>27.000991</td>\n",
       "      <td>91.280849</td>\n",
       "      <td>91.002005</td>\n",
       "    </tr>\n",
       "    <tr>\n",
       "      <th>30</th>\n",
       "      <td>69.925747</td>\n",
       "      <td>27.001169</td>\n",
       "      <td>90.710268</td>\n",
       "      <td>91.376968</td>\n",
       "    </tr>\n",
       "  </tbody>\n",
       "</table>\n",
       "</div>"
      ],
      "text/plain": [
       "     Latitude  Longitude     Height        IDW\n",
       "0   69.925891  27.001095  90.322226  89.922427\n",
       "1   69.925836  27.001092  90.577668  91.074363\n",
       "2   69.925814  27.001266  90.286394  90.332491\n",
       "3   69.925784  27.001441  89.975550  90.559079\n",
       "4   69.925791  27.001553  89.580965  87.827659\n",
       "5   69.925809  27.001623  89.449445  87.905665\n",
       "6   69.925835  27.001534  89.612676  89.634905\n",
       "7   69.925848  27.001642  89.241923  87.853051\n",
       "8   69.925882  27.001693  89.112957  89.101316\n",
       "9   69.925926  27.001660  89.041733  89.003451\n",
       "10  69.925965  27.001551  89.026915  88.060284\n",
       "11  69.926008  27.001523  89.015000  88.153765\n",
       "12  69.925997  27.001470  89.102403  87.821231\n",
       "13  69.925991  27.001370  89.137092  89.156509\n",
       "14  69.925987  27.001334  89.286498  89.358409\n",
       "15  69.926005  27.001231  89.554811  87.859369\n",
       "16  69.926075  27.001217  89.342939  89.250821\n",
       "17  69.926056  27.001057  89.539140  89.946489\n",
       "18  69.926037  27.000938  89.820696  90.262682\n",
       "19  69.926012  27.000849  90.356028  89.843317\n",
       "20  69.925984  27.001094  89.761081  89.889122\n",
       "21  69.925950  27.000988  90.222490  90.462011\n",
       "22  69.925954  27.001241  89.573742  89.624232\n",
       "23  69.925940  27.001369  89.533038  89.709069\n",
       "24  69.925924  27.001293  89.769848  89.876434\n",
       "25  69.925940  27.001467  89.180286  87.946312\n",
       "26  69.925957  27.001563  89.071451  87.278308\n",
       "27  69.925912  27.000733  91.126256  91.495682\n",
       "28  69.925833  27.000752  92.134185  92.006855\n",
       "29  69.925730  27.000991  91.280849  91.002005\n",
       "30  69.925747  27.001169  90.710268  91.376968"
      ]
     },
     "execution_count": 7,
     "metadata": {},
     "output_type": "execute_result"
    }
   ],
   "source": [
    "valle_als"
   ]
  },
  {
   "cell_type": "code",
   "execution_count": 15,
   "id": "a4530d8d-5906-4ec4-9e4a-86e153e8b6fc",
   "metadata": {},
   "outputs": [],
   "source": [
    "asv_actual = valle_asv['ASV_depth'].values.tolist()"
   ]
  },
  {
   "cell_type": "code",
   "execution_count": 16,
   "id": "18b98f10-de97-477e-a3d1-db3114ecd839",
   "metadata": {},
   "outputs": [
    {
     "data": {
      "text/plain": [
       "[-1.1680001, -1.2382, -0.90799995, -0.081999984, -1.1551018]"
      ]
     },
     "execution_count": 16,
     "metadata": {},
     "output_type": "execute_result"
    }
   ],
   "source": [
    "asv_actual"
   ]
  },
  {
   "cell_type": "code",
   "execution_count": 17,
   "id": "1b1ae04f-45e6-44e8-903a-1142eeea66e0",
   "metadata": {},
   "outputs": [],
   "source": [
    "asv_predicted = valle_asv['Validation_depth'].values.tolist()"
   ]
  },
  {
   "cell_type": "code",
   "execution_count": 18,
   "id": "bec45bd3-89c9-4d5c-89fa-09f567613393",
   "metadata": {},
   "outputs": [
    {
     "data": {
      "text/plain": [
       "[-1.5900001, -1.5382, -1.37299995, -0.708999984, -1.7261018]"
      ]
     },
     "execution_count": 18,
     "metadata": {},
     "output_type": "execute_result"
    }
   ],
   "source": [
    "asv_predicted"
   ]
  },
  {
   "cell_type": "code",
   "execution_count": 19,
   "id": "caaf9364-c9d2-4fe9-b3c1-648918a8b5d1",
   "metadata": {},
   "outputs": [
    {
     "name": "stdout",
     "output_type": "stream",
     "text": [
      "Root Mean Square Error:\n",
      "\n",
      "0.49060758249338143\n"
     ]
    }
   ],
   "source": [
    "MSE = mean_squared_error(asv_actual, asv_predicted)\n",
    " \n",
    "RMSE = math.sqrt(MSE)\n",
    "print(\"Root Mean Square Error:\\n\")\n",
    "print(RMSE)"
   ]
  },
  {
   "cell_type": "code",
   "execution_count": 20,
   "id": "f74c92db-7266-4025-91fb-76b8ead5b0a4",
   "metadata": {},
   "outputs": [],
   "source": [
    "als_actual = valle_als['Height'].values.tolist()"
   ]
  },
  {
   "cell_type": "code",
   "execution_count": 21,
   "id": "dcbf6f13-631e-4950-8f71-4b4f39c3c3f9",
   "metadata": {},
   "outputs": [],
   "source": [
    "als_predicted = valle_als['IDW'].values.tolist()"
   ]
  },
  {
   "cell_type": "code",
   "execution_count": 22,
   "id": "68460738-70d5-445f-b61c-8a55c2f14c77",
   "metadata": {},
   "outputs": [
    {
     "name": "stdout",
     "output_type": "stream",
     "text": [
      "Root Mean Square Error:\n",
      "\n",
      "0.8131865198308067\n"
     ]
    }
   ],
   "source": [
    "MSE = mean_squared_error(als_actual, als_predicted)\n",
    " \n",
    "RMSE = math.sqrt(MSE)\n",
    "print(\"Root Mean Square Error:\\n\")\n",
    "print(RMSE)"
   ]
  },
  {
   "cell_type": "code",
   "execution_count": 24,
   "id": "594a135a-91be-4b69-98d7-0de8a5e7a144",
   "metadata": {},
   "outputs": [
    {
     "name": "stdout",
     "output_type": "stream",
     "text": [
      "0.5743318585227102\n"
     ]
    }
   ],
   "source": [
    "MAE = mean_absolute_error(als_actual, als_predicted)\n",
    "\n",
    "print(MAE)"
   ]
  },
  {
   "cell_type": "code",
   "execution_count": 25,
   "id": "da7cb098-1e28-462f-80f0-3e684bd5e4ab",
   "metadata": {},
   "outputs": [
    {
     "name": "stdout",
     "output_type": "stream",
     "text": [
      "0.477\n"
     ]
    }
   ],
   "source": [
    "MAE = mean_absolute_error(asv_actual, asv_predicted)\n",
    "\n",
    "print(MAE)"
   ]
  },
  {
   "cell_type": "code",
   "execution_count": null,
   "id": "b2c65b3d-9854-48b6-9347-fd42a125d8b6",
   "metadata": {},
   "outputs": [],
   "source": []
  }
 ],
 "metadata": {
  "kernelspec": {
   "display_name": "Python 3 (ipykernel)",
   "language": "python",
   "name": "python3"
  },
  "language_info": {
   "codemirror_mode": {
    "name": "ipython",
    "version": 3
   },
   "file_extension": ".py",
   "mimetype": "text/x-python",
   "name": "python",
   "nbconvert_exporter": "python",
   "pygments_lexer": "ipython3",
   "version": "3.11.5"
  }
 },
 "nbformat": 4,
 "nbformat_minor": 5
}
