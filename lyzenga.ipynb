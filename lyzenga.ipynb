{
 "cells": [
  {
   "cell_type": "code",
   "execution_count": 1,
   "id": "aa9bde78-0f7c-4c8b-afad-8b49398a33c8",
   "metadata": {
    "tags": []
   },
   "outputs": [],
   "source": [
    "import rasterio"
   ]
  },
  {
   "cell_type": "code",
   "execution_count": 2,
   "id": "b68e99ca-8369-4c00-a910-a467a791ccc3",
   "metadata": {
    "tags": []
   },
   "outputs": [],
   "source": [
    "import numpy as np\n",
    "from math import sqrt\n",
    "from fractions import Fraction\n",
    "from decimal import Decimal\n",
    "from itertools import combinations\n",
    "from matplotlib import pyplot as plt\n",
    "from scipy import odr\n",
    "import geopandas as gpd\n",
    "import pandas as pd"
   ]
  },
  {
   "cell_type": "code",
   "execution_count": 3,
   "id": "ab1931c3-8666-4178-895f-fedcb0695901",
   "metadata": {
    "tags": []
   },
   "outputs": [],
   "source": [
    "from test_script import attenuation_coef_ratio"
   ]
  },
  {
   "cell_type": "code",
   "execution_count": 4,
   "id": "f259d80d-89c1-47fe-9030-4ffc25964c4e",
   "metadata": {
    "tags": []
   },
   "outputs": [],
   "source": [
    "from rasterio.plot import show"
   ]
  },
  {
   "cell_type": "code",
   "execution_count": 5,
   "id": "634bb06f-8279-4781-a8de-60a9547723b5",
   "metadata": {
    "tags": []
   },
   "outputs": [],
   "source": [
    "import os"
   ]
  },
  {
   "cell_type": "code",
   "execution_count": 6,
   "id": "ff5180d4-6065-4acb-857f-ed444bf742b1",
   "metadata": {
    "tags": []
   },
   "outputs": [
    {
     "data": {
      "text/plain": [
       "<Axes: >"
      ]
     },
     "execution_count": 6,
     "metadata": {},
     "output_type": "execute_result"
    },
    {
     "data": {
      "image/png": "[encoded data removed]",
      "text/plain": [
       "<Figure size 640x480 with 1 Axes>"
      ]
     },
     "metadata": {},
     "output_type": "display_data"
    }
   ],
   "source": [
    "# make shape\n",
    "from shapely.geometry import Polygon\n",
    "# VALLE\n",
    "lat_point_list = [7757783.3, 7757594.2, 7757497.6, 7757683.3]\n",
    "lon_point_list = [500094.0, 500228.9, 500100.2, 499961.8]\n",
    "\n",
    "polygon_geom = Polygon(zip(lon_point_list, lat_point_list))\n",
    "polygon = gpd.GeoDataFrame(index=[0], crs='epsg:3067', geometry=[polygon_geom])       \n",
    "polygon.plot()"
   ]
  },
  {
   "cell_type": "code",
   "execution_count": 7,
   "id": "07fcff28-9889-4bb7-a135-1d69f8b51bc7",
   "metadata": {
    "tags": []
   },
   "outputs": [],
   "source": [
    "# save file\n",
    "#outdir = './data/output'\n",
    "#filename = 'valle_outline.shp'\n",
    "#outfilepath = os.path.join(outdir, filename)\n",
    "#polygon.to_file(outfilepath, driver=\"ESRI Shapefile\")"
   ]
  },
  {
   "cell_type": "code",
   "execution_count": 8,
   "id": "99aec05b-901d-40dc-8cbf-78769cc63ca8",
   "metadata": {
    "tags": []
   },
   "outputs": [
    {
     "name": "stderr",
     "output_type": "stream",
     "text": [
      "/usr/local/lib/python3.11/site-packages/rasterio/__init__.py:304: NotGeoreferencedWarning: Dataset has no geotransform, gcps, or rpcs. The identity matrix will be returned.\n",
      "  dataset = DatasetReader(path, driver=driver, sharing=sharing, **kwargs)\n"
     ]
    },
    {
     "data": {
      "text/plain": [
       "rasterio.io.DatasetReader"
      ]
     },
     "execution_count": 8,
     "metadata": {},
     "output_type": "execute_result"
    }
   ],
   "source": [
    "# Data dir\n",
    "data_dir = \"./data/valle\"\n",
    "fp = os.path.join(data_dir, \"valle_sentinel2_qgis.tif\")\n",
    "\n",
    "# Open the file:\n",
    "raster = rasterio.open(fp, mode='r', dtype=rasterio.uint8) \n",
    "raster2 = rasterio.open(fp, mode='r')                      \n",
    "\n",
    "# Check type of the variable 'raster'\n",
    "type(raster)"
   ]
  },
  {
   "cell_type": "code",
   "execution_count": 9,
   "id": "4caf670b-4193-44d3-b42f-507b05a2b6b9",
   "metadata": {
    "tags": []
   },
   "outputs": [
    {
     "data": {
      "text/plain": [
       "CRS.from_epsg(3067)"
      ]
     },
     "execution_count": 9,
     "metadata": {},
     "output_type": "execute_result"
    }
   ],
   "source": [
    "# Projection\n",
    "raster.crs"
   ]
  },
  {
   "cell_type": "code",
   "execution_count": 10,
   "id": "0fbee002-2fe6-4cf0-ac7f-9c8ef4ce8871",
   "metadata": {
    "tags": []
   },
   "outputs": [
    {
     "data": {
      "text/plain": [
       "Affine(1.0, 0.0, 0.0,\n",
       "       0.0, 1.0, 0.0)"
      ]
     },
     "execution_count": 10,
     "metadata": {},
     "output_type": "execute_result"
    }
   ],
   "source": [
    "# Affine transform (how raster is scaled, rotated, skewed, and/or translated)\n",
    "raster.transform\n",
    "raster2.transform"
   ]
  },
  {
   "cell_type": "code",
   "execution_count": 11,
   "id": "1f2bef17-f43b-49c0-a8f5-6d8367ddf6c9",
   "metadata": {
    "tags": []
   },
   "outputs": [
    {
     "name": "stdout",
     "output_type": "stream",
     "text": [
      "268\n",
      "287\n"
     ]
    }
   ],
   "source": [
    "# Dimensions\n",
    "print(raster.width)\n",
    "print(raster.height)"
   ]
  },
  {
   "cell_type": "code",
   "execution_count": 12,
   "id": "89570207-c1f2-40e3-9b12-147cd5ec3b85",
   "metadata": {
    "tags": []
   },
   "outputs": [
    {
     "data": {
      "text/plain": [
       "24"
      ]
     },
     "execution_count": 12,
     "metadata": {},
     "output_type": "execute_result"
    }
   ],
   "source": [
    "# Number of bands\n",
    "raster.count"
   ]
  },
  {
   "cell_type": "code",
   "execution_count": 13,
   "id": "d3e9b0d5-73bd-4b7e-855a-06076736c154",
   "metadata": {
    "tags": []
   },
   "outputs": [
    {
     "data": {
      "text/plain": [
       "{'driver': 'GTiff',\n",
       " 'dtype': 'float64',\n",
       " 'nodata': None,\n",
       " 'width': 268,\n",
       " 'height': 287,\n",
       " 'count': 24,\n",
       " 'crs': CRS.from_epsg(3067),\n",
       " 'transform': Affine(1.0, 0.0, 0.0,\n",
       "        0.0, 1.0, 0.0)}"
      ]
     },
     "execution_count": 13,
     "metadata": {},
     "output_type": "execute_result"
    }
   ],
   "source": [
    "# All Metadata for the whole raster dataset\n",
    "raster.meta"
   ]
  },
  {
   "cell_type": "code",
   "execution_count": 15,
   "id": "d4194bb5-6107-458b-86dd-02a2c63e5f7d",
   "metadata": {
    "tags": []
   },
   "outputs": [
    {
     "name": "stdout",
     "output_type": "stream",
     "text": [
      "<class 'numpy.ndarray'>\n",
      "float64\n"
     ]
    }
   ],
   "source": [
    "# Read the raster band as separate variable\n",
    "band1 = raster.read(1)\n",
    "\n",
    "# Check type of the variable 'band'\n",
    "print(type(band1))\n",
    "\n",
    "# Data type of the values\n",
    "print(band1.dtype)"
   ]
  },
  {
   "cell_type": "code",
   "execution_count": 16,
   "id": "33550982-8438-4287-8d21-773283e53086",
   "metadata": {
    "tags": []
   },
   "outputs": [
    {
     "data": {
      "text/plain": [
       "[{'min': 0.0, 'mean': 0.0, 'median': 0.0, 'max': 0.0},\n",
       " {'min': 0.0, 'mean': 0.0, 'median': 0.0, 'max': 0.0},\n",
       " {'min': 0.0, 'mean': 0.0, 'median': 0.0, 'max': 0.0},\n",
       " {'min': 0.0, 'mean': 0.0, 'median': 0.0, 'max': 0.0},\n",
       " {'min': 0.0, 'mean': 0.0, 'median': 0.0, 'max': 0.0},\n",
       " {'min': 0.0, 'mean': 0.0, 'median': 0.0, 'max': 0.0},\n",
       " {'min': 0.0, 'mean': 0.0, 'median': 0.0, 'max': 0.0},\n",
       " {'min': 0.0, 'mean': 0.0, 'median': 0.0, 'max': 0.0},\n",
       " {'min': 0.0, 'mean': 0.0, 'median': 0.0, 'max': 0.0},\n",
       " {'min': 0.0, 'mean': 0.0, 'median': 0.0, 'max': 0.0},\n",
       " {'min': 0.0, 'mean': 0.0, 'median': 0.0, 'max': 0.0},\n",
       " {'min': 0.0, 'mean': 0.0, 'median': 0.0, 'max': 0.0},\n",
       " {'min': 0.0, 'mean': 0.0, 'median': 0.0, 'max': 0.0},\n",
       " {'min': 0.0, 'mean': 0.0, 'median': 0.0, 'max': 0.0},\n",
       " {'min': 0.0, 'mean': 0.0, 'median': 0.0, 'max': 0.0},\n",
       " {'min': 0.0, 'mean': 0.0, 'median': 0.0, 'max': 0.0},\n",
       " {'min': 0.0, 'mean': 0.0, 'median': 0.0, 'max': 0.0},\n",
       " {'min': 0.0, 'mean': 0.0, 'median': 0.0, 'max': 0.0},\n",
       " {'min': 0.0, 'mean': 0.0, 'median': 0.0, 'max': 0.0},\n",
       " {'min': 0.0, 'mean': 0.0, 'median': 0.0, 'max': 0.0},\n",
       " {'min': 0.0, 'mean': 0.0, 'median': 0.0, 'max': 0.0},\n",
       " {'min': 0.0, 'mean': 0.0, 'median': 0.0, 'max': 0.0},\n",
       " {'min': 0.0, 'mean': 0.0, 'median': 0.0, 'max': 0.0},\n",
       " {'min': 0.0, 'mean': 0.0, 'median': 0.0, 'max': 0.0}]"
      ]
     },
     "execution_count": 16,
     "metadata": {},
     "output_type": "execute_result"
    }
   ],
   "source": [
    "# Read all bands\n",
    "array = raster.read()\n",
    "\n",
    "# Calculate statistics for each band\n",
    "stats = []\n",
    "for band in array:\n",
    "    stats.append({\n",
    "        'min': band.min(),\n",
    "        'mean': band.mean(),\n",
    "        'median': np.median(band),\n",
    "        'max': band.max()})\n",
    "\n",
    "# Show stats for each channel\n",
    "stats"
   ]
  },
  {
   "cell_type": "code",
   "execution_count": 16,
   "id": "72f3d9b3-aad8-4342-b142-cb55fcaaac15",
   "metadata": {
    "tags": []
   },
   "outputs": [
    {
     "data": {
      "image/png": "[encoded data removed]",
      "text/plain": [
       "<Figure size 640x480 with 1 Axes>"
      ]
     },
     "metadata": {},
     "output_type": "display_data"
    },
    {
     "data": {
      "text/plain": [
       "<Axes: >"
      ]
     },
     "execution_count": 16,
     "metadata": {},
     "output_type": "execute_result"
    }
   ],
   "source": [
    "# https://towardsdatascience.com/reading-and-visualizing-geotiff-images-with-python-8dcca7a74510\n",
    "show(raster.read(2))\n",
    "#show(raster)"
   ]
  },
  {
   "cell_type": "code",
   "execution_count": 14,
   "id": "007ff02a-f11e-4433-9146-dbf2d3d1ba1d",
   "metadata": {
    "tags": []
   },
   "outputs": [
    {
     "ename": "AttributeError",
     "evalue": "'numpy.ndarray' object has no attribute 'read'",
     "output_type": "error",
     "traceback": [
      "\u001b[0;31m---------------------------------------------------------------------------\u001b[0m",
      "\u001b[0;31mAttributeError\u001b[0m                            Traceback (most recent call last)",
      "Cell \u001b[0;32mIn[14], line 2\u001b[0m\n\u001b[1;32m      1\u001b[0m \u001b[38;5;66;03m# load raster to numpy array\u001b[39;00m\n\u001b[0;32m----> 2\u001b[0m rasternp \u001b[38;5;241m=\u001b[39m \u001b[43mraster\u001b[49m\u001b[38;5;241;43m.\u001b[39;49m\u001b[43mread\u001b[49m(\u001b[38;5;241m3\u001b[39m)\n\u001b[1;32m      3\u001b[0m \u001b[38;5;28mprint\u001b[39m(rasternp\u001b[38;5;241m.\u001b[39mshape) \u001b[38;5;66;03m# this is a 3D numpy array, with dimensions [band, row, col]\u001b[39;00m\n",
      "\u001b[0;31mAttributeError\u001b[0m: 'numpy.ndarray' object has no attribute 'read'"
     ]
    }
   ],
   "source": [
    "# load raster to numpy array\n",
    "rasternp = raster.read(3)\n",
    "print(rasternp.shape) # this is a 3D numpy array, with dimensions [band, row, col]"
   ]
  },
  {
   "cell_type": "code",
   "execution_count": 16,
   "id": "26b9a336-b5df-4426-83c7-3929a85067e7",
   "metadata": {
    "tags": []
   },
   "outputs": [
    {
     "data": {
      "text/plain": [
       "nan"
      ]
     },
     "execution_count": 16,
     "metadata": {},
     "output_type": "execute_result"
    }
   ],
   "source": [
    "raster.mean()"
   ]
  },
  {
   "cell_type": "code",
   "execution_count": 105,
   "id": "22ee5ce4-c8a3-4434-b639-8252da15b113",
   "metadata": {
    "tags": []
   },
   "outputs": [
    {
     "ename": "ValueError",
     "evalue": "not enough values to unpack (expected 3, got 2)",
     "output_type": "error",
     "traceback": [
      "\u001b[0;31m---------------------------------------------------------------------------\u001b[0m",
      "\u001b[0;31mValueError\u001b[0m                                Traceback (most recent call last)",
      "Cell \u001b[0;32mIn[105], line 5\u001b[0m\n\u001b[1;32m      3\u001b[0m fig \u001b[38;5;241m=\u001b[39m plt\u001b[38;5;241m.\u001b[39mfigure()\n\u001b[1;32m      4\u001b[0m ax \u001b[38;5;241m=\u001b[39m fig\u001b[38;5;241m.\u001b[39madd_subplot(\u001b[38;5;241m111\u001b[39m, projection\u001b[38;5;241m=\u001b[39m\u001b[38;5;124m'\u001b[39m\u001b[38;5;124m3d\u001b[39m\u001b[38;5;124m'\u001b[39m)\n\u001b[0;32m----> 5\u001b[0m z, x, y \u001b[38;5;241m=\u001b[39m imgarr\u001b[38;5;241m.\u001b[39mnonzero()\n\u001b[1;32m      6\u001b[0m ax\u001b[38;5;241m.\u001b[39mscatter(x, y, \u001b[38;5;241m-\u001b[39mz, c\u001b[38;5;241m=\u001b[39mz, alpha\u001b[38;5;241m=\u001b[39m\u001b[38;5;241m1\u001b[39m)\n\u001b[1;32m      7\u001b[0m plt\u001b[38;5;241m.\u001b[39mshow()\n",
      "\u001b[0;31mValueError\u001b[0m: not enough values to unpack (expected 3, got 2)"
     ]
    },
    {
     "data": {
      "image/png": "[encoded data removed]",
      "text/plain": [
       "<Figure size 700x350 with 1 Axes>"
      ]
     },
     "metadata": {},
     "output_type": "display_data"
    }
   ],
   "source": [
    "plt.rcParams[\"figure.figsize\"] = [7.00, 3.50]\n",
    "plt.rcParams[\"figure.autolayout\"] = True\n",
    "fig = plt.figure()\n",
    "ax = fig.add_subplot(111, projection='3d')\n",
    "z, x, y = imgarr.nonzero()\n",
    "ax.scatter(x, y, z, c=z, alpha=1)\n",
    "plt.show()"
   ]
  },
  {
   "cell_type": "code",
   "execution_count": 8,
   "id": "d037e304-b31a-4455-94ca-bb93a060f68d",
   "metadata": {
    "tags": []
   },
   "outputs": [
    {
     "data": {
      "text/plain": [
       "numpy.ndarray"
      ]
     },
     "execution_count": 8,
     "metadata": {},
     "output_type": "execute_result"
    }
   ],
   "source": [
    "type(imgarr)"
   ]
  },
  {
   "cell_type": "code",
   "execution_count": 9,
   "id": "a1af6cae-8a75-47c5-bfa6-24b79d7fc0cf",
   "metadata": {
    "tags": []
   },
   "outputs": [],
   "source": [
    "coef_ratio = attenuation_coef_ratio(band_i=imgarr[3],\n",
    "                                    band_j=imgarr[2],\n",
    "                                    apply_log=True)"
   ]
  },
  {
   "cell_type": "code",
   "execution_count": 10,
   "id": "bab87fea-7ef2-4164-991d-b6ef5a1c2d27",
   "metadata": {
    "tags": []
   },
   "outputs": [
    {
     "name": "stdout",
     "output_type": "stream",
     "text": [
      "nan\n"
     ]
    }
   ],
   "source": [
    "print(coef_ratio)"
   ]
  },
  {
   "cell_type": "code",
   "execution_count": 11,
   "id": "32a0a667-5e21-44d4-a604-3d0def61b188",
   "metadata": {
    "tags": []
   },
   "outputs": [
    {
     "name": "stdout",
     "output_type": "stream",
     "text": [
      "[[nan nan nan ... nan nan nan]\n",
      " [nan nan nan ... nan nan nan]\n",
      " [nan nan nan ... nan nan nan]\n",
      " ...\n",
      " [nan nan nan ... nan nan nan]\n",
      " [nan nan nan ... nan nan nan]\n",
      " [nan nan nan ... nan nan nan]]\n"
     ]
    }
   ],
   "source": [
    "print(imgarr)"
   ]
  },
  {
   "cell_type": "code",
   "execution_count": 12,
   "id": "df638bc1-843d-4cea-a192-5725d5485f2a",
   "metadata": {
    "tags": []
   },
   "outputs": [
    {
     "name": "stdout",
     "output_type": "stream",
     "text": [
      "<open DatasetReader name='data/valle_sentinel-2.tif' mode='r'>\n"
     ]
    }
   ],
   "source": [
    "print(img)"
   ]
  },
  {
   "cell_type": "code",
   "execution_count": 104,
   "id": "0f17c973-c593-48dc-aa37-5f81886f0db6",
   "metadata": {
    "tags": []
   },
   "outputs": [
    {
     "data": {
      "text/plain": [
       "<function ndarray.view>"
      ]
     },
     "execution_count": 104,
     "metadata": {},
     "output_type": "execute_result"
    }
   ],
   "source": [
    "imgarr.view"
   ]
  },
  {
   "cell_type": "code",
   "execution_count": null,
   "id": "74c4a5ba-f030-4a5b-9d63-666179c7c021",
   "metadata": {},
   "outputs": [],
   "source": []
  }
 ],
 "metadata": {
  "kernelspec": {
   "display_name": "Python 3 (ipykernel)",
   "language": "python",
   "name": "python3"
  },
  "language_info": {
   "codemirror_mode": {
    "name": "ipython",
    "version": 3
   },
   "file_extension": ".py",
   "mimetype": "text/x-python",
   "name": "python",
   "nbconvert_exporter": "python",
   "pygments_lexer": "ipython3",
   "version": "3.11.2"
  }
 },
 "nbformat": 4,
 "nbformat_minor": 5
}
